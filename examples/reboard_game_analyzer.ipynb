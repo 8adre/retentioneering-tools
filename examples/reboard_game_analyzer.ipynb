{
 "cells": [
  {
   "cell_type": "code",
   "execution_count": 1,
   "metadata": {
    "colab": {
     "base_uri": "https://localhost:8080/",
     "height": 691.0
    },
    "colab_type": "code",
    "id": "WbOiIJg13OhR",
    "outputId": "c84d4c97-d164-4518-d771-89b2ec392f7e"
   },
   "outputs": [
    {
     "name": "stdout",
     "output_type": "stream",
     "text": [
      "Requirement already satisfied: psycopg2 in c:\\users\\mi\\appdata\\local\\programs\\python\\python36\\lib\\site-packages (2.8.2)\n"
     ]
    },
    {
     "name": "stderr",
     "output_type": "stream",
     "text": [
      "You are using pip version 19.0.1, however version 19.1.1 is available.\n",
      "You should consider upgrading via the 'python -m pip install --upgrade pip' command.\n"
     ]
    }
   ],
   "source": [
    "!pip3 install psycopg2"
   ]
  },
  {
   "cell_type": "code",
   "execution_count": 2,
   "metadata": {
    "colab": {},
    "colab_type": "code",
    "id": "StxzXDKI3Ohf"
   },
   "outputs": [],
   "source": [
    "import psycopg2\n",
    "import requests\n",
    "import pandas as pd\n",
    "from psycopg2.extras import RealDictCursor"
   ]
  },
  {
   "cell_type": "code",
   "execution_count": 3,
   "metadata": {},
   "outputs": [],
   "source": [
    "conn = psycopg2.connect(\n",
    "    database='reboard-api',\n",
    "    host='176.112.192.94',\n",
    "    user='postgres',\n",
    "    password='postgres',\n",
    "    cursor_factory=RealDictCursor\n",
    ")\n",
    "\n",
    "def query(q):\n",
    "    with conn:\n",
    "        with conn.cursor() as cur:\n",
    "            cur.execute(q)\n",
    "            res = cur.fetchall()\n",
    "    return pd.DataFrame(res)"
   ]
  },
  {
   "cell_type": "code",
   "execution_count": 4,
   "metadata": {
    "colab": {
     "base_uri": "https://localhost:8080/",
     "height": 1000.0
    },
    "colab_type": "code",
    "id": "CO5FrS0S3OiE",
    "outputId": "b492471d-4201-446e-9c15-d65fc2a51f3a"
   },
   "outputs": [
    {
     "data": {
      "text/html": [
       "<div>\n",
       "<style scoped>\n",
       "    .dataframe tbody tr th:only-of-type {\n",
       "        vertical-align: middle;\n",
       "    }\n",
       "\n",
       "    .dataframe tbody tr th {\n",
       "        vertical-align: top;\n",
       "    }\n",
       "\n",
       "    .dataframe thead th {\n",
       "        text-align: right;\n",
       "    }\n",
       "</style>\n",
       "<table border=\"1\" class=\"dataframe\">\n",
       "  <thead>\n",
       "    <tr style=\"text-align: right;\">\n",
       "      <th></th>\n",
       "      <th>event_timestamp</th>\n",
       "      <th>user_pseudo_id</th>\n",
       "      <th>event_name</th>\n",
       "    </tr>\n",
       "  </thead>\n",
       "  <tbody>\n",
       "    <tr>\n",
       "      <th>0</th>\n",
       "      <td>2019-06-29 16:12:29</td>\n",
       "      <td>1561816724099|1</td>\n",
       "      <td>tech_screen_change_mainmenu</td>\n",
       "    </tr>\n",
       "    <tr>\n",
       "      <th>1</th>\n",
       "      <td>2019-06-29 16:12:33</td>\n",
       "      <td>1561816724099|1</td>\n",
       "      <td>tech_screen_change_scores</td>\n",
       "    </tr>\n",
       "    <tr>\n",
       "      <th>2</th>\n",
       "      <td>2019-06-29 16:12:35</td>\n",
       "      <td>1561816724099|1</td>\n",
       "      <td>tech_screen_change_mainmenu</td>\n",
       "    </tr>\n",
       "    <tr>\n",
       "      <th>3</th>\n",
       "      <td>2019-06-29 16:13:57</td>\n",
       "      <td>1560695147351|1</td>\n",
       "      <td>tech_screen_change_mainmenu</td>\n",
       "    </tr>\n",
       "    <tr>\n",
       "      <th>4</th>\n",
       "      <td>2019-06-29 16:14:00</td>\n",
       "      <td>1560695147351|1</td>\n",
       "      <td>pregame_start_game</td>\n",
       "    </tr>\n",
       "  </tbody>\n",
       "</table>\n",
       "</div>"
      ],
      "text/plain": [
       "      event_timestamp   user_pseudo_id                   event_name\n",
       "0 2019-06-29 16:12:29  1561816724099|1  tech_screen_change_mainmenu\n",
       "1 2019-06-29 16:12:33  1561816724099|1    tech_screen_change_scores\n",
       "2 2019-06-29 16:12:35  1561816724099|1  tech_screen_change_mainmenu\n",
       "3 2019-06-29 16:13:57  1560695147351|1  tech_screen_change_mainmenu\n",
       "4 2019-06-29 16:14:00  1560695147351|1           pregame_start_game"
      ]
     },
     "execution_count": 4,
     "metadata": {},
     "output_type": "execute_result"
    }
   ],
   "source": [
    "data = query(\"\"\"\n",
    "    select\n",
    "        ge_timestamp_event as event_timestamp,\n",
    "        ge_session_id as user_pseudo_id,\n",
    "        ge_event_name as event_name\n",
    "    from pixel.game_event\n",
    "    order by event_timestamp\n",
    "\"\"\")\n",
    "data.head()"
   ]
  },
  {
   "cell_type": "markdown",
   "metadata": {
    "colab": {},
    "colab_type": "code",
    "id": "4tdPwEBR88h-"
   },
   "source": [
    "To get your unique game id:\n",
    "1. Open [reboardgame](http://reboardgame.com/)\n",
    "2. Open browser console (usually you can click F12)\n",
    "3. Execute in console following command \n",
    "```js\n",
    "localStorage.getItem('reboard_session_id')\n",
    "```"
   ]
  },
  {
   "cell_type": "code",
   "execution_count": 5,
   "metadata": {},
   "outputs": [
    {
     "data": {
      "text/html": [
       "<div>\n",
       "<style scoped>\n",
       "    .dataframe tbody tr th:only-of-type {\n",
       "        vertical-align: middle;\n",
       "    }\n",
       "\n",
       "    .dataframe tbody tr th {\n",
       "        vertical-align: top;\n",
       "    }\n",
       "\n",
       "    .dataframe thead th {\n",
       "        text-align: right;\n",
       "    }\n",
       "</style>\n",
       "<table border=\"1\" class=\"dataframe\">\n",
       "  <thead>\n",
       "    <tr style=\"text-align: right;\">\n",
       "      <th></th>\n",
       "      <th>event_timestamp</th>\n",
       "      <th>user_pseudo_id</th>\n",
       "      <th>event_name</th>\n",
       "    </tr>\n",
       "  </thead>\n",
       "  <tbody>\n",
       "    <tr>\n",
       "      <th>4315</th>\n",
       "      <td>2019-07-02 15:17:19</td>\n",
       "      <td>1562080639630|1</td>\n",
       "      <td>tech_screen_change_mainmenu</td>\n",
       "    </tr>\n",
       "    <tr>\n",
       "      <th>4390</th>\n",
       "      <td>2019-07-02 15:42:43</td>\n",
       "      <td>1562080639630|1</td>\n",
       "      <td>tech_screen_change_mainmenu</td>\n",
       "    </tr>\n",
       "    <tr>\n",
       "      <th>4391</th>\n",
       "      <td>2019-07-02 15:43:10</td>\n",
       "      <td>1562080639630|1</td>\n",
       "      <td>tech_screen_change_mainmenu</td>\n",
       "    </tr>\n",
       "  </tbody>\n",
       "</table>\n",
       "</div>"
      ],
      "text/plain": [
       "         event_timestamp   user_pseudo_id                   event_name\n",
       "4315 2019-07-02 15:17:19  1562080639630|1  tech_screen_change_mainmenu\n",
       "4390 2019-07-02 15:42:43  1562080639630|1  tech_screen_change_mainmenu\n",
       "4391 2019-07-02 15:43:10  1562080639630|1  tech_screen_change_mainmenu"
      ]
     },
     "execution_count": 5,
     "metadata": {},
     "output_type": "execute_result"
    }
   ],
   "source": [
    "# put here your user_id\n",
    "user_id = '1562080639630|1'\n",
    "\n",
    "# this will show your events\n",
    "data[data.user_pseudo_id == user_id]"
   ]
  },
  {
   "cell_type": "code",
   "execution_count": 6,
   "metadata": {
    "colab": {},
    "colab_type": "code",
    "id": "K7V_F2-W9rTi"
   },
   "outputs": [],
   "source": [
    "from retentioneering import init_config\n",
    "import pandas as pd"
   ]
  },
  {
   "cell_type": "code",
   "execution_count": 7,
   "metadata": {
    "colab": {
     "base_uri": "https://localhost:8080/",
     "height": 34.0
    },
    "colab_type": "code",
    "id": "0wKzbvTnDSvk",
    "outputId": "0b35a519-c14e-47f9-b21a-4b475b1a7d6b"
   },
   "outputs": [
    {
     "data": {
      "text/plain": [
       "10"
      ]
     },
     "execution_count": 7,
     "metadata": {},
     "output_type": "execute_result"
    }
   ],
   "source": [
    "data[data.event_name == 'tech_screen_change_scores']['user_pseudo_id'].nunique()"
   ]
  },
  {
   "cell_type": "code",
   "execution_count": 8,
   "metadata": {
    "colab": {
     "base_uri": "https://localhost:8080/",
     "height": 125.0
    },
    "colab_type": "code",
    "id": "jiZmx-uh-Mpg",
    "outputId": "8d18e6d1-6124-4ae3-ed9a-1dc0c2bd93ac"
   },
   "outputs": [],
   "source": [
    "init_config(\n",
    "    experiments_folder='experiments', # folder for saving experiment results: graph visualization, heatmaps and etc.\n",
    "    index_col='user_pseudo_id', # column by which we split users / sessions / whatever\n",
    "    event_col='event_name', # column that describes event\n",
    "    event_time_col='event_timestamp', # column that describes timestamp of event\n",
    "    positive_target_event='aftergame_winfinish', # name of positive target event\n",
    "    negative_target_event='lost', # name of negative target event\n",
    "    pos_target_definition={ # how to define positive event, e.g. empty means that add passed for whom was not 'lost'\n",
    "\n",
    "    },\n",
    "    neg_target_definition={ # how to define negative event, e.g. users who were inactive for 600 seconds.\n",
    "        'time_limit': 600\n",
    "    },\n",
    ")"
   ]
  },
  {
   "cell_type": "code",
   "execution_count": 9,
   "metadata": {
    "colab": {
     "base_uri": "https://localhost:8080/",
     "height": 102.0
    },
    "colab_type": "code",
    "id": "Q5jQEJpy-iOb",
    "outputId": "4c7fafcf-a197-436d-dcc4-35987c461f94"
   },
   "outputs": [
    {
     "data": {
      "text/plain": [
       "array(['tech_screen_change_mainmenu', 'tech_screen_change_scores',\n",
       "       'pregame_start_game', 'tech_screen_change_gameplay',\n",
       "       'game_board_click', 'aftergame_winfinish',\n",
       "       'tech_screen_change_settings', 'pregame_change_settings',\n",
       "       'tech_screen_change_team', 'pregame_button_click'], dtype=object)"
      ]
     },
     "execution_count": 9,
     "metadata": {},
     "output_type": "execute_result"
    }
   ],
   "source": [
    "data.event_name.unique()"
   ]
  },
  {
   "cell_type": "code",
   "execution_count": 10,
   "metadata": {
    "colab": {},
    "colab_type": "code",
    "id": "6sx0Hzyh-uSZ"
   },
   "outputs": [],
   "source": [
    "data = data.retention.prepare()"
   ]
  },
  {
   "cell_type": "code",
   "execution_count": 11,
   "metadata": {
    "colab": {
     "base_uri": "https://localhost:8080/",
     "height": 204.0
    },
    "colab_type": "code",
    "id": "G0xffTZnBbFq",
    "outputId": "4e32fb6a-b791-4709-d588-ac9f9fc295dd"
   },
   "outputs": [
    {
     "data": {
      "text/html": [
       "<div>\n",
       "<style scoped>\n",
       "    .dataframe tbody tr th:only-of-type {\n",
       "        vertical-align: middle;\n",
       "    }\n",
       "\n",
       "    .dataframe tbody tr th {\n",
       "        vertical-align: top;\n",
       "    }\n",
       "\n",
       "    .dataframe thead th {\n",
       "        text-align: right;\n",
       "    }\n",
       "</style>\n",
       "<table border=\"1\" class=\"dataframe\">\n",
       "  <thead>\n",
       "    <tr style=\"text-align: right;\">\n",
       "      <th></th>\n",
       "      <th>event_name</th>\n",
       "      <th>next_event</th>\n",
       "      <th>event_count</th>\n",
       "    </tr>\n",
       "  </thead>\n",
       "  <tbody>\n",
       "    <tr>\n",
       "      <th>0</th>\n",
       "      <td>aftergame_winfinish</td>\n",
       "      <td>game_board_click</td>\n",
       "      <td>3.833333</td>\n",
       "    </tr>\n",
       "    <tr>\n",
       "      <th>1</th>\n",
       "      <td>aftergame_winfinish</td>\n",
       "      <td>pregame_start_game</td>\n",
       "      <td>0.958333</td>\n",
       "    </tr>\n",
       "    <tr>\n",
       "      <th>2</th>\n",
       "      <td>aftergame_winfinish</td>\n",
       "      <td>tech_screen_change_gameplay</td>\n",
       "      <td>0.791667</td>\n",
       "    </tr>\n",
       "    <tr>\n",
       "      <th>3</th>\n",
       "      <td>aftergame_winfinish</td>\n",
       "      <td>tech_screen_change_mainmenu</td>\n",
       "      <td>0.708333</td>\n",
       "    </tr>\n",
       "    <tr>\n",
       "      <th>4</th>\n",
       "      <td>game_board_click</td>\n",
       "      <td>aftergame_winfinish</td>\n",
       "      <td>6.416667</td>\n",
       "    </tr>\n",
       "  </tbody>\n",
       "</table>\n",
       "</div>"
      ],
      "text/plain": [
       "            event_name                   next_event  event_count\n",
       "0  aftergame_winfinish             game_board_click     3.833333\n",
       "1  aftergame_winfinish           pregame_start_game     0.958333\n",
       "2  aftergame_winfinish  tech_screen_change_gameplay     0.791667\n",
       "3  aftergame_winfinish  tech_screen_change_mainmenu     0.708333\n",
       "4     game_board_click          aftergame_winfinish     6.416667"
      ]
     },
     "execution_count": 11,
     "metadata": {},
     "output_type": "execute_result"
    }
   ],
   "source": [
    "edgelist = data.retention.get_edgelist()\n",
    "edgelist.head()"
   ]
  },
  {
   "cell_type": "code",
   "execution_count": 12,
   "metadata": {
    "colab": {
     "base_uri": "https://localhost:8080/",
     "height": 204.0
    },
    "colab_type": "code",
    "id": "E29NBcXDBu7t",
    "outputId": "90b57ff7-3bb1-4b6c-a5c1-4c177989f8a8"
   },
   "outputs": [
    {
     "data": {
      "text/html": [
       "<div>\n",
       "<style scoped>\n",
       "    .dataframe tbody tr th:only-of-type {\n",
       "        vertical-align: middle;\n",
       "    }\n",
       "\n",
       "    .dataframe tbody tr th {\n",
       "        vertical-align: top;\n",
       "    }\n",
       "\n",
       "    .dataframe thead th {\n",
       "        text-align: right;\n",
       "    }\n",
       "</style>\n",
       "<table border=\"1\" class=\"dataframe\">\n",
       "  <thead>\n",
       "    <tr style=\"text-align: right;\">\n",
       "      <th></th>\n",
       "      <th>event_name</th>\n",
       "      <th>next_event</th>\n",
       "      <th>users_nunique</th>\n",
       "    </tr>\n",
       "  </thead>\n",
       "  <tbody>\n",
       "    <tr>\n",
       "      <th>15</th>\n",
       "      <td>pregame_start_game</td>\n",
       "      <td>game_board_click</td>\n",
       "      <td>22</td>\n",
       "    </tr>\n",
       "    <tr>\n",
       "      <th>21</th>\n",
       "      <td>tech_screen_change_gameplay</td>\n",
       "      <td>pregame_start_game</td>\n",
       "      <td>22</td>\n",
       "    </tr>\n",
       "    <tr>\n",
       "      <th>5</th>\n",
       "      <td>game_board_click</td>\n",
       "      <td>game_board_click</td>\n",
       "      <td>22</td>\n",
       "    </tr>\n",
       "    <tr>\n",
       "      <th>4</th>\n",
       "      <td>game_board_click</td>\n",
       "      <td>aftergame_winfinish</td>\n",
       "      <td>21</td>\n",
       "    </tr>\n",
       "    <tr>\n",
       "      <th>0</th>\n",
       "      <td>aftergame_winfinish</td>\n",
       "      <td>game_board_click</td>\n",
       "      <td>20</td>\n",
       "    </tr>\n",
       "  </tbody>\n",
       "</table>\n",
       "</div>"
      ],
      "text/plain": [
       "                     event_name           next_event  users_nunique\n",
       "15           pregame_start_game     game_board_click             22\n",
       "21  tech_screen_change_gameplay   pregame_start_game             22\n",
       "5              game_board_click     game_board_click             22\n",
       "4              game_board_click  aftergame_winfinish             21\n",
       "0           aftergame_winfinish     game_board_click             20"
      ]
     },
     "execution_count": 12,
     "metadata": {},
     "output_type": "execute_result"
    }
   ],
   "source": [
    "edgelist = data.retention.get_edgelist(edge_col='user_pseudo_id', edge_attributes='users_nunique', norm=False)\n",
    "edgelist.sort_values('users_nunique', ascending=False).head()"
   ]
  },
  {
   "cell_type": "code",
   "execution_count": 13,
   "metadata": {
    "colab": {
     "base_uri": "https://localhost:8080/",
     "height": 399.0
    },
    "colab_type": "code",
    "id": "f3kVJwdUBx4r",
    "outputId": "2cb62180-7f86-4ab5-eea7-d288cad404b7"
   },
   "outputs": [
    {
     "data": {
      "text/html": [
       "<div>\n",
       "<style scoped>\n",
       "    .dataframe tbody tr th:only-of-type {\n",
       "        vertical-align: middle;\n",
       "    }\n",
       "\n",
       "    .dataframe tbody tr th {\n",
       "        vertical-align: top;\n",
       "    }\n",
       "\n",
       "    .dataframe thead th {\n",
       "        text-align: right;\n",
       "    }\n",
       "</style>\n",
       "<table border=\"1\" class=\"dataframe\">\n",
       "  <thead>\n",
       "    <tr style=\"text-align: right;\">\n",
       "      <th></th>\n",
       "      <th>aftergame_winfinish</th>\n",
       "      <th>game_board_click</th>\n",
       "      <th>pregame_start_game</th>\n",
       "      <th>tech_screen_change_gameplay</th>\n",
       "      <th>tech_screen_change_mainmenu</th>\n",
       "      <th>pregame_button_click</th>\n",
       "      <th>tech_screen_change_settings</th>\n",
       "      <th>pregame_change_settings</th>\n",
       "      <th>tech_screen_change_scores</th>\n",
       "      <th>tech_screen_change_team</th>\n",
       "    </tr>\n",
       "  </thead>\n",
       "  <tbody>\n",
       "    <tr>\n",
       "      <th>aftergame_winfinish</th>\n",
       "      <td>0.00</td>\n",
       "      <td>3.83</td>\n",
       "      <td>0.96</td>\n",
       "      <td>0.79</td>\n",
       "      <td>0.71</td>\n",
       "      <td>0.00</td>\n",
       "      <td>0.00</td>\n",
       "      <td>0.00</td>\n",
       "      <td>0.00</td>\n",
       "      <td>0.00</td>\n",
       "    </tr>\n",
       "    <tr>\n",
       "      <th>game_board_click</th>\n",
       "      <td>6.42</td>\n",
       "      <td>125.38</td>\n",
       "      <td>2.04</td>\n",
       "      <td>1.58</td>\n",
       "      <td>1.42</td>\n",
       "      <td>0.00</td>\n",
       "      <td>0.00</td>\n",
       "      <td>0.00</td>\n",
       "      <td>0.00</td>\n",
       "      <td>0.00</td>\n",
       "    </tr>\n",
       "    <tr>\n",
       "      <th>pregame_start_game</th>\n",
       "      <td>0.00</td>\n",
       "      <td>3.83</td>\n",
       "      <td>0.08</td>\n",
       "      <td>5.12</td>\n",
       "      <td>0.58</td>\n",
       "      <td>0.00</td>\n",
       "      <td>0.04</td>\n",
       "      <td>0.00</td>\n",
       "      <td>0.00</td>\n",
       "      <td>0.00</td>\n",
       "    </tr>\n",
       "    <tr>\n",
       "      <th>tech_screen_change_gameplay</th>\n",
       "      <td>0.00</td>\n",
       "      <td>4.21</td>\n",
       "      <td>4.54</td>\n",
       "      <td>0.25</td>\n",
       "      <td>0.58</td>\n",
       "      <td>0.00</td>\n",
       "      <td>0.00</td>\n",
       "      <td>0.00</td>\n",
       "      <td>0.00</td>\n",
       "      <td>0.00</td>\n",
       "    </tr>\n",
       "    <tr>\n",
       "      <th>tech_screen_change_mainmenu</th>\n",
       "      <td>0.00</td>\n",
       "      <td>0.08</td>\n",
       "      <td>1.96</td>\n",
       "      <td>1.67</td>\n",
       "      <td>0.75</td>\n",
       "      <td>0.17</td>\n",
       "      <td>1.96</td>\n",
       "      <td>0.04</td>\n",
       "      <td>1.71</td>\n",
       "      <td>0.58</td>\n",
       "    </tr>\n",
       "    <tr>\n",
       "      <th>pregame_button_click</th>\n",
       "      <td>0.00</td>\n",
       "      <td>0.00</td>\n",
       "      <td>0.00</td>\n",
       "      <td>0.12</td>\n",
       "      <td>0.17</td>\n",
       "      <td>0.00</td>\n",
       "      <td>0.08</td>\n",
       "      <td>0.00</td>\n",
       "      <td>0.00</td>\n",
       "      <td>0.00</td>\n",
       "    </tr>\n",
       "    <tr>\n",
       "      <th>tech_screen_change_settings</th>\n",
       "      <td>0.00</td>\n",
       "      <td>0.00</td>\n",
       "      <td>0.04</td>\n",
       "      <td>0.00</td>\n",
       "      <td>0.33</td>\n",
       "      <td>0.00</td>\n",
       "      <td>0.00</td>\n",
       "      <td>1.71</td>\n",
       "      <td>0.00</td>\n",
       "      <td>0.00</td>\n",
       "    </tr>\n",
       "    <tr>\n",
       "      <th>pregame_change_settings</th>\n",
       "      <td>0.00</td>\n",
       "      <td>0.00</td>\n",
       "      <td>0.00</td>\n",
       "      <td>0.08</td>\n",
       "      <td>1.67</td>\n",
       "      <td>0.00</td>\n",
       "      <td>0.00</td>\n",
       "      <td>4.04</td>\n",
       "      <td>0.00</td>\n",
       "      <td>0.00</td>\n",
       "    </tr>\n",
       "    <tr>\n",
       "      <th>tech_screen_change_scores</th>\n",
       "      <td>0.00</td>\n",
       "      <td>0.04</td>\n",
       "      <td>0.00</td>\n",
       "      <td>0.00</td>\n",
       "      <td>1.58</td>\n",
       "      <td>0.00</td>\n",
       "      <td>0.00</td>\n",
       "      <td>0.00</td>\n",
       "      <td>0.25</td>\n",
       "      <td>0.00</td>\n",
       "    </tr>\n",
       "    <tr>\n",
       "      <th>tech_screen_change_team</th>\n",
       "      <td>0.00</td>\n",
       "      <td>0.00</td>\n",
       "      <td>0.00</td>\n",
       "      <td>0.00</td>\n",
       "      <td>0.38</td>\n",
       "      <td>0.21</td>\n",
       "      <td>0.00</td>\n",
       "      <td>0.00</td>\n",
       "      <td>0.00</td>\n",
       "      <td>0.00</td>\n",
       "    </tr>\n",
       "  </tbody>\n",
       "</table>\n",
       "</div>"
      ],
      "text/plain": [
       "                             aftergame_winfinish  game_board_click  \\\n",
       "aftergame_winfinish                         0.00              3.83   \n",
       "game_board_click                            6.42            125.38   \n",
       "pregame_start_game                          0.00              3.83   \n",
       "tech_screen_change_gameplay                 0.00              4.21   \n",
       "tech_screen_change_mainmenu                 0.00              0.08   \n",
       "pregame_button_click                        0.00              0.00   \n",
       "tech_screen_change_settings                 0.00              0.00   \n",
       "pregame_change_settings                     0.00              0.00   \n",
       "tech_screen_change_scores                   0.00              0.04   \n",
       "tech_screen_change_team                     0.00              0.00   \n",
       "\n",
       "                             pregame_start_game  tech_screen_change_gameplay  \\\n",
       "aftergame_winfinish                        0.96                         0.79   \n",
       "game_board_click                           2.04                         1.58   \n",
       "pregame_start_game                         0.08                         5.12   \n",
       "tech_screen_change_gameplay                4.54                         0.25   \n",
       "tech_screen_change_mainmenu                1.96                         1.67   \n",
       "pregame_button_click                       0.00                         0.12   \n",
       "tech_screen_change_settings                0.04                         0.00   \n",
       "pregame_change_settings                    0.00                         0.08   \n",
       "tech_screen_change_scores                  0.00                         0.00   \n",
       "tech_screen_change_team                    0.00                         0.00   \n",
       "\n",
       "                             tech_screen_change_mainmenu  \\\n",
       "aftergame_winfinish                                 0.71   \n",
       "game_board_click                                    1.42   \n",
       "pregame_start_game                                  0.58   \n",
       "tech_screen_change_gameplay                         0.58   \n",
       "tech_screen_change_mainmenu                         0.75   \n",
       "pregame_button_click                                0.17   \n",
       "tech_screen_change_settings                         0.33   \n",
       "pregame_change_settings                             1.67   \n",
       "tech_screen_change_scores                           1.58   \n",
       "tech_screen_change_team                             0.38   \n",
       "\n",
       "                             pregame_button_click  \\\n",
       "aftergame_winfinish                          0.00   \n",
       "game_board_click                             0.00   \n",
       "pregame_start_game                           0.00   \n",
       "tech_screen_change_gameplay                  0.00   \n",
       "tech_screen_change_mainmenu                  0.17   \n",
       "pregame_button_click                         0.00   \n",
       "tech_screen_change_settings                  0.00   \n",
       "pregame_change_settings                      0.00   \n",
       "tech_screen_change_scores                    0.00   \n",
       "tech_screen_change_team                      0.21   \n",
       "\n",
       "                             tech_screen_change_settings  \\\n",
       "aftergame_winfinish                                 0.00   \n",
       "game_board_click                                    0.00   \n",
       "pregame_start_game                                  0.04   \n",
       "tech_screen_change_gameplay                         0.00   \n",
       "tech_screen_change_mainmenu                         1.96   \n",
       "pregame_button_click                                0.08   \n",
       "tech_screen_change_settings                         0.00   \n",
       "pregame_change_settings                             0.00   \n",
       "tech_screen_change_scores                           0.00   \n",
       "tech_screen_change_team                             0.00   \n",
       "\n",
       "                             pregame_change_settings  \\\n",
       "aftergame_winfinish                             0.00   \n",
       "game_board_click                                0.00   \n",
       "pregame_start_game                              0.00   \n",
       "tech_screen_change_gameplay                     0.00   \n",
       "tech_screen_change_mainmenu                     0.04   \n",
       "pregame_button_click                            0.00   \n",
       "tech_screen_change_settings                     1.71   \n",
       "pregame_change_settings                         4.04   \n",
       "tech_screen_change_scores                       0.00   \n",
       "tech_screen_change_team                         0.00   \n",
       "\n",
       "                             tech_screen_change_scores  \\\n",
       "aftergame_winfinish                               0.00   \n",
       "game_board_click                                  0.00   \n",
       "pregame_start_game                                0.00   \n",
       "tech_screen_change_gameplay                       0.00   \n",
       "tech_screen_change_mainmenu                       1.71   \n",
       "pregame_button_click                              0.00   \n",
       "tech_screen_change_settings                       0.00   \n",
       "pregame_change_settings                           0.00   \n",
       "tech_screen_change_scores                         0.25   \n",
       "tech_screen_change_team                           0.00   \n",
       "\n",
       "                             tech_screen_change_team  \n",
       "aftergame_winfinish                             0.00  \n",
       "game_board_click                                0.00  \n",
       "pregame_start_game                              0.00  \n",
       "tech_screen_change_gameplay                     0.00  \n",
       "tech_screen_change_mainmenu                     0.58  \n",
       "pregame_button_click                            0.00  \n",
       "tech_screen_change_settings                     0.00  \n",
       "pregame_change_settings                         0.00  \n",
       "tech_screen_change_scores                       0.00  \n",
       "tech_screen_change_team                         0.00  "
      ]
     },
     "execution_count": 13,
     "metadata": {},
     "output_type": "execute_result"
    }
   ],
   "source": [
    "data.retention.get_adjacency()"
   ]
  },
  {
   "cell_type": "code",
   "execution_count": 14,
   "metadata": {
    "colab": {
     "base_uri": "https://localhost:8080/",
     "height": 399.0
    },
    "colab_type": "code",
    "id": "VS2qcyeAB0HM",
    "outputId": "13ef46e7-8679-42aa-fa91-54ba277d2ff7"
   },
   "outputs": [
    {
     "data": {
      "text/html": [
       "<div>\n",
       "<style scoped>\n",
       "    .dataframe tbody tr th:only-of-type {\n",
       "        vertical-align: middle;\n",
       "    }\n",
       "\n",
       "    .dataframe tbody tr th {\n",
       "        vertical-align: top;\n",
       "    }\n",
       "\n",
       "    .dataframe thead th {\n",
       "        text-align: right;\n",
       "    }\n",
       "</style>\n",
       "<table border=\"1\" class=\"dataframe\">\n",
       "  <thead>\n",
       "    <tr style=\"text-align: right;\">\n",
       "      <th></th>\n",
       "      <th>aftergame_winfinish</th>\n",
       "      <th>game_board_click</th>\n",
       "      <th>pregame_start_game</th>\n",
       "      <th>tech_screen_change_gameplay</th>\n",
       "      <th>tech_screen_change_mainmenu</th>\n",
       "      <th>pregame_button_click</th>\n",
       "      <th>tech_screen_change_settings</th>\n",
       "      <th>pregame_change_settings</th>\n",
       "      <th>tech_screen_change_scores</th>\n",
       "      <th>tech_screen_change_team</th>\n",
       "    </tr>\n",
       "  </thead>\n",
       "  <tbody>\n",
       "    <tr>\n",
       "      <th>aftergame_winfinish</th>\n",
       "      <td>0.0</td>\n",
       "      <td>20.0</td>\n",
       "      <td>11.0</td>\n",
       "      <td>10.0</td>\n",
       "      <td>8.0</td>\n",
       "      <td>0.0</td>\n",
       "      <td>0.0</td>\n",
       "      <td>0.0</td>\n",
       "      <td>0.0</td>\n",
       "      <td>0.0</td>\n",
       "    </tr>\n",
       "    <tr>\n",
       "      <th>game_board_click</th>\n",
       "      <td>21.0</td>\n",
       "      <td>22.0</td>\n",
       "      <td>14.0</td>\n",
       "      <td>15.0</td>\n",
       "      <td>14.0</td>\n",
       "      <td>0.0</td>\n",
       "      <td>0.0</td>\n",
       "      <td>0.0</td>\n",
       "      <td>0.0</td>\n",
       "      <td>0.0</td>\n",
       "    </tr>\n",
       "    <tr>\n",
       "      <th>pregame_start_game</th>\n",
       "      <td>0.0</td>\n",
       "      <td>22.0</td>\n",
       "      <td>1.0</td>\n",
       "      <td>20.0</td>\n",
       "      <td>8.0</td>\n",
       "      <td>0.0</td>\n",
       "      <td>1.0</td>\n",
       "      <td>0.0</td>\n",
       "      <td>0.0</td>\n",
       "      <td>0.0</td>\n",
       "    </tr>\n",
       "    <tr>\n",
       "      <th>tech_screen_change_gameplay</th>\n",
       "      <td>0.0</td>\n",
       "      <td>19.0</td>\n",
       "      <td>22.0</td>\n",
       "      <td>4.0</td>\n",
       "      <td>6.0</td>\n",
       "      <td>0.0</td>\n",
       "      <td>0.0</td>\n",
       "      <td>0.0</td>\n",
       "      <td>0.0</td>\n",
       "      <td>0.0</td>\n",
       "    </tr>\n",
       "    <tr>\n",
       "      <th>tech_screen_change_mainmenu</th>\n",
       "      <td>0.0</td>\n",
       "      <td>2.0</td>\n",
       "      <td>18.0</td>\n",
       "      <td>15.0</td>\n",
       "      <td>7.0</td>\n",
       "      <td>4.0</td>\n",
       "      <td>15.0</td>\n",
       "      <td>1.0</td>\n",
       "      <td>10.0</td>\n",
       "      <td>10.0</td>\n",
       "    </tr>\n",
       "    <tr>\n",
       "      <th>pregame_button_click</th>\n",
       "      <td>0.0</td>\n",
       "      <td>0.0</td>\n",
       "      <td>0.0</td>\n",
       "      <td>3.0</td>\n",
       "      <td>4.0</td>\n",
       "      <td>0.0</td>\n",
       "      <td>2.0</td>\n",
       "      <td>0.0</td>\n",
       "      <td>0.0</td>\n",
       "      <td>0.0</td>\n",
       "    </tr>\n",
       "    <tr>\n",
       "      <th>tech_screen_change_settings</th>\n",
       "      <td>0.0</td>\n",
       "      <td>0.0</td>\n",
       "      <td>1.0</td>\n",
       "      <td>0.0</td>\n",
       "      <td>7.0</td>\n",
       "      <td>0.0</td>\n",
       "      <td>0.0</td>\n",
       "      <td>13.0</td>\n",
       "      <td>0.0</td>\n",
       "      <td>0.0</td>\n",
       "    </tr>\n",
       "    <tr>\n",
       "      <th>pregame_change_settings</th>\n",
       "      <td>0.0</td>\n",
       "      <td>0.0</td>\n",
       "      <td>0.0</td>\n",
       "      <td>2.0</td>\n",
       "      <td>13.0</td>\n",
       "      <td>0.0</td>\n",
       "      <td>0.0</td>\n",
       "      <td>9.0</td>\n",
       "      <td>0.0</td>\n",
       "      <td>0.0</td>\n",
       "    </tr>\n",
       "    <tr>\n",
       "      <th>tech_screen_change_scores</th>\n",
       "      <td>0.0</td>\n",
       "      <td>1.0</td>\n",
       "      <td>0.0</td>\n",
       "      <td>0.0</td>\n",
       "      <td>10.0</td>\n",
       "      <td>0.0</td>\n",
       "      <td>0.0</td>\n",
       "      <td>0.0</td>\n",
       "      <td>3.0</td>\n",
       "      <td>0.0</td>\n",
       "    </tr>\n",
       "    <tr>\n",
       "      <th>tech_screen_change_team</th>\n",
       "      <td>0.0</td>\n",
       "      <td>0.0</td>\n",
       "      <td>0.0</td>\n",
       "      <td>0.0</td>\n",
       "      <td>8.0</td>\n",
       "      <td>5.0</td>\n",
       "      <td>0.0</td>\n",
       "      <td>0.0</td>\n",
       "      <td>0.0</td>\n",
       "      <td>0.0</td>\n",
       "    </tr>\n",
       "  </tbody>\n",
       "</table>\n",
       "</div>"
      ],
      "text/plain": [
       "                             aftergame_winfinish  game_board_click  \\\n",
       "aftergame_winfinish                          0.0              20.0   \n",
       "game_board_click                            21.0              22.0   \n",
       "pregame_start_game                           0.0              22.0   \n",
       "tech_screen_change_gameplay                  0.0              19.0   \n",
       "tech_screen_change_mainmenu                  0.0               2.0   \n",
       "pregame_button_click                         0.0               0.0   \n",
       "tech_screen_change_settings                  0.0               0.0   \n",
       "pregame_change_settings                      0.0               0.0   \n",
       "tech_screen_change_scores                    0.0               1.0   \n",
       "tech_screen_change_team                      0.0               0.0   \n",
       "\n",
       "                             pregame_start_game  tech_screen_change_gameplay  \\\n",
       "aftergame_winfinish                        11.0                         10.0   \n",
       "game_board_click                           14.0                         15.0   \n",
       "pregame_start_game                          1.0                         20.0   \n",
       "tech_screen_change_gameplay                22.0                          4.0   \n",
       "tech_screen_change_mainmenu                18.0                         15.0   \n",
       "pregame_button_click                        0.0                          3.0   \n",
       "tech_screen_change_settings                 1.0                          0.0   \n",
       "pregame_change_settings                     0.0                          2.0   \n",
       "tech_screen_change_scores                   0.0                          0.0   \n",
       "tech_screen_change_team                     0.0                          0.0   \n",
       "\n",
       "                             tech_screen_change_mainmenu  \\\n",
       "aftergame_winfinish                                  8.0   \n",
       "game_board_click                                    14.0   \n",
       "pregame_start_game                                   8.0   \n",
       "tech_screen_change_gameplay                          6.0   \n",
       "tech_screen_change_mainmenu                          7.0   \n",
       "pregame_button_click                                 4.0   \n",
       "tech_screen_change_settings                          7.0   \n",
       "pregame_change_settings                             13.0   \n",
       "tech_screen_change_scores                           10.0   \n",
       "tech_screen_change_team                              8.0   \n",
       "\n",
       "                             pregame_button_click  \\\n",
       "aftergame_winfinish                           0.0   \n",
       "game_board_click                              0.0   \n",
       "pregame_start_game                            0.0   \n",
       "tech_screen_change_gameplay                   0.0   \n",
       "tech_screen_change_mainmenu                   4.0   \n",
       "pregame_button_click                          0.0   \n",
       "tech_screen_change_settings                   0.0   \n",
       "pregame_change_settings                       0.0   \n",
       "tech_screen_change_scores                     0.0   \n",
       "tech_screen_change_team                       5.0   \n",
       "\n",
       "                             tech_screen_change_settings  \\\n",
       "aftergame_winfinish                                  0.0   \n",
       "game_board_click                                     0.0   \n",
       "pregame_start_game                                   1.0   \n",
       "tech_screen_change_gameplay                          0.0   \n",
       "tech_screen_change_mainmenu                         15.0   \n",
       "pregame_button_click                                 2.0   \n",
       "tech_screen_change_settings                          0.0   \n",
       "pregame_change_settings                              0.0   \n",
       "tech_screen_change_scores                            0.0   \n",
       "tech_screen_change_team                              0.0   \n",
       "\n",
       "                             pregame_change_settings  \\\n",
       "aftergame_winfinish                              0.0   \n",
       "game_board_click                                 0.0   \n",
       "pregame_start_game                               0.0   \n",
       "tech_screen_change_gameplay                      0.0   \n",
       "tech_screen_change_mainmenu                      1.0   \n",
       "pregame_button_click                             0.0   \n",
       "tech_screen_change_settings                     13.0   \n",
       "pregame_change_settings                          9.0   \n",
       "tech_screen_change_scores                        0.0   \n",
       "tech_screen_change_team                          0.0   \n",
       "\n",
       "                             tech_screen_change_scores  \\\n",
       "aftergame_winfinish                                0.0   \n",
       "game_board_click                                   0.0   \n",
       "pregame_start_game                                 0.0   \n",
       "tech_screen_change_gameplay                        0.0   \n",
       "tech_screen_change_mainmenu                       10.0   \n",
       "pregame_button_click                               0.0   \n",
       "tech_screen_change_settings                        0.0   \n",
       "pregame_change_settings                            0.0   \n",
       "tech_screen_change_scores                          3.0   \n",
       "tech_screen_change_team                            0.0   \n",
       "\n",
       "                             tech_screen_change_team  \n",
       "aftergame_winfinish                              0.0  \n",
       "game_board_click                                 0.0  \n",
       "pregame_start_game                               0.0  \n",
       "tech_screen_change_gameplay                      0.0  \n",
       "tech_screen_change_mainmenu                     10.0  \n",
       "pregame_button_click                             0.0  \n",
       "tech_screen_change_settings                      0.0  \n",
       "pregame_change_settings                          0.0  \n",
       "tech_screen_change_scores                        0.0  \n",
       "tech_screen_change_team                          0.0  "
      ]
     },
     "execution_count": 14,
     "metadata": {},
     "output_type": "execute_result"
    }
   ],
   "source": [
    "data.retention.get_adjacency(edge_col='user_pseudo_id', edge_attributes='users_nunique', norm=False)"
   ]
  },
  {
   "cell_type": "code",
   "execution_count": 15,
   "metadata": {
    "colab": {
     "base_uri": "https://localhost:8080/",
     "height": 921.0
    },
    "colab_type": "code",
    "id": "zJLYZieaB11F",
    "outputId": "415a7175-c3c3-4130-914b-030323d9e39b"
   },
   "outputs": [
    {
     "data": {
      "text/html": [
       "\n",
       "        <iframe\n",
       "            width=\"900\"\n",
       "            height=\"900\"\n",
       "            src=\"experiments/index_2019-07-02 18_44_05_215539.html\"\n",
       "            frameborder=\"0\"\n",
       "            allowfullscreen\n",
       "        ></iframe>\n",
       "        "
      ],
      "text/plain": [
       "<IPython.lib.display.IFrame at 0x23628f55da0>"
      ]
     },
     "metadata": {},
     "output_type": "execute_result"
    }
   ],
   "source": [
    "data.retention.plot_graph(thresh=0.05, width=800, height=800)"
   ]
  },
  {
   "cell_type": "code",
   "execution_count": 16,
   "metadata": {
    "colab": {
     "base_uri": "https://localhost:8080/",
     "height": 636.0
    },
    "colab_type": "code",
    "id": "Wf1u2b9IB3jQ",
    "outputId": "396a06bd-a498-47f3-fb67-556bf29ceae2"
   },
   "outputs": [
    {
     "data": {
      "image/png": "[encoded data removed]",
      "text/plain": [
       "<Figure size 1440x720 with 2 Axes>"
      ]
     },
     "metadata": {
      "needs_background": "light"
     },
     "output_type": "display_data"
    }
   ],
   "source": [
    "desc_table = data.retention.get_step_matrix(max_steps=30)"
   ]
  },
  {
   "cell_type": "code",
   "execution_count": 22,
   "metadata": {
    "colab": {
     "base_uri": "https://localhost:8080/",
     "height": 615.0
    },
    "colab_type": "code",
    "id": "Xika3DMiCSKE",
    "outputId": "ee920427-10df-444b-dfdf-10af83914c65"
   },
   "outputs": [
    {
     "data": {
      "image/png": "[encoded data removed]",
      "text/plain": [
       "<Figure size 1440x720 with 2 Axes>"
      ]
     },
     "metadata": {
      "needs_background": "light"
     },
     "output_type": "display_data"
    }
   ],
   "source": [
    "# create group filter based on target events\n",
    "diff_filter = data.retention.create_filter()\n",
    "\n",
    "# calculate difference table between two groups\n",
    "diff_table = data.retention.get_step_matrix_difference(diff_filter, max_steps=30)"
   ]
  },
  {
   "cell_type": "code",
   "execution_count": 23,
   "metadata": {
    "colab": {
     "base_uri": "https://localhost:8080/",
     "height": 399.0
    },
    "colab_type": "code",
    "id": "mmTi_d0tCdS5",
    "outputId": "6582e4ab-a665-453d-a95d-911781bd90fd"
   },
   "outputs": [
    {
     "data": {
      "text/html": [
       "<div>\n",
       "<style scoped>\n",
       "    .dataframe tbody tr th:only-of-type {\n",
       "        vertical-align: middle;\n",
       "    }\n",
       "\n",
       "    .dataframe tbody tr th {\n",
       "        vertical-align: top;\n",
       "    }\n",
       "\n",
       "    .dataframe thead th {\n",
       "        text-align: right;\n",
       "    }\n",
       "</style>\n",
       "<table border=\"1\" class=\"dataframe\">\n",
       "  <thead>\n",
       "    <tr style=\"text-align: right;\">\n",
       "      <th></th>\n",
       "      <th>aftergame_winfinish</th>\n",
       "      <th>game_board_click</th>\n",
       "      <th>pregame_start_game</th>\n",
       "      <th>tech_screen_change_gameplay</th>\n",
       "      <th>tech_screen_change_mainmenu</th>\n",
       "      <th>pregame_button_click</th>\n",
       "      <th>tech_screen_change_settings</th>\n",
       "      <th>pregame_change_settings</th>\n",
       "      <th>tech_screen_change_scores</th>\n",
       "      <th>tech_screen_change_team</th>\n",
       "    </tr>\n",
       "  </thead>\n",
       "  <tbody>\n",
       "    <tr>\n",
       "      <th>aftergame_winfinish</th>\n",
       "      <td>0.00</td>\n",
       "      <td>3.83</td>\n",
       "      <td>0.96</td>\n",
       "      <td>0.79</td>\n",
       "      <td>0.71</td>\n",
       "      <td>0.00</td>\n",
       "      <td>0.00</td>\n",
       "      <td>0.00</td>\n",
       "      <td>0.00</td>\n",
       "      <td>0.00</td>\n",
       "    </tr>\n",
       "    <tr>\n",
       "      <th>game_board_click</th>\n",
       "      <td>6.42</td>\n",
       "      <td>125.38</td>\n",
       "      <td>2.04</td>\n",
       "      <td>1.58</td>\n",
       "      <td>1.42</td>\n",
       "      <td>0.00</td>\n",
       "      <td>0.00</td>\n",
       "      <td>0.00</td>\n",
       "      <td>0.00</td>\n",
       "      <td>0.00</td>\n",
       "    </tr>\n",
       "    <tr>\n",
       "      <th>pregame_start_game</th>\n",
       "      <td>0.00</td>\n",
       "      <td>3.83</td>\n",
       "      <td>0.08</td>\n",
       "      <td>5.12</td>\n",
       "      <td>0.58</td>\n",
       "      <td>0.00</td>\n",
       "      <td>0.04</td>\n",
       "      <td>0.00</td>\n",
       "      <td>0.00</td>\n",
       "      <td>0.00</td>\n",
       "    </tr>\n",
       "    <tr>\n",
       "      <th>tech_screen_change_gameplay</th>\n",
       "      <td>0.00</td>\n",
       "      <td>4.21</td>\n",
       "      <td>4.54</td>\n",
       "      <td>0.25</td>\n",
       "      <td>0.58</td>\n",
       "      <td>0.00</td>\n",
       "      <td>0.00</td>\n",
       "      <td>0.00</td>\n",
       "      <td>0.00</td>\n",
       "      <td>0.00</td>\n",
       "    </tr>\n",
       "    <tr>\n",
       "      <th>tech_screen_change_mainmenu</th>\n",
       "      <td>0.00</td>\n",
       "      <td>0.08</td>\n",
       "      <td>1.96</td>\n",
       "      <td>1.67</td>\n",
       "      <td>0.75</td>\n",
       "      <td>0.17</td>\n",
       "      <td>1.96</td>\n",
       "      <td>0.04</td>\n",
       "      <td>1.71</td>\n",
       "      <td>0.58</td>\n",
       "    </tr>\n",
       "    <tr>\n",
       "      <th>pregame_button_click</th>\n",
       "      <td>0.00</td>\n",
       "      <td>0.00</td>\n",
       "      <td>0.00</td>\n",
       "      <td>0.12</td>\n",
       "      <td>0.17</td>\n",
       "      <td>0.00</td>\n",
       "      <td>0.08</td>\n",
       "      <td>0.00</td>\n",
       "      <td>0.00</td>\n",
       "      <td>0.00</td>\n",
       "    </tr>\n",
       "    <tr>\n",
       "      <th>tech_screen_change_settings</th>\n",
       "      <td>0.00</td>\n",
       "      <td>0.00</td>\n",
       "      <td>0.04</td>\n",
       "      <td>0.00</td>\n",
       "      <td>0.33</td>\n",
       "      <td>0.00</td>\n",
       "      <td>0.00</td>\n",
       "      <td>1.71</td>\n",
       "      <td>0.00</td>\n",
       "      <td>0.00</td>\n",
       "    </tr>\n",
       "    <tr>\n",
       "      <th>pregame_change_settings</th>\n",
       "      <td>0.00</td>\n",
       "      <td>0.00</td>\n",
       "      <td>0.00</td>\n",
       "      <td>0.08</td>\n",
       "      <td>1.67</td>\n",
       "      <td>0.00</td>\n",
       "      <td>0.00</td>\n",
       "      <td>4.04</td>\n",
       "      <td>0.00</td>\n",
       "      <td>0.00</td>\n",
       "    </tr>\n",
       "    <tr>\n",
       "      <th>tech_screen_change_scores</th>\n",
       "      <td>0.00</td>\n",
       "      <td>0.04</td>\n",
       "      <td>0.00</td>\n",
       "      <td>0.00</td>\n",
       "      <td>1.58</td>\n",
       "      <td>0.00</td>\n",
       "      <td>0.00</td>\n",
       "      <td>0.00</td>\n",
       "      <td>0.25</td>\n",
       "      <td>0.00</td>\n",
       "    </tr>\n",
       "    <tr>\n",
       "      <th>tech_screen_change_team</th>\n",
       "      <td>0.00</td>\n",
       "      <td>0.00</td>\n",
       "      <td>0.00</td>\n",
       "      <td>0.00</td>\n",
       "      <td>0.38</td>\n",
       "      <td>0.21</td>\n",
       "      <td>0.00</td>\n",
       "      <td>0.00</td>\n",
       "      <td>0.00</td>\n",
       "      <td>0.00</td>\n",
       "    </tr>\n",
       "  </tbody>\n",
       "</table>\n",
       "</div>"
      ],
      "text/plain": [
       "                             aftergame_winfinish  game_board_click  \\\n",
       "aftergame_winfinish                         0.00              3.83   \n",
       "game_board_click                            6.42            125.38   \n",
       "pregame_start_game                          0.00              3.83   \n",
       "tech_screen_change_gameplay                 0.00              4.21   \n",
       "tech_screen_change_mainmenu                 0.00              0.08   \n",
       "pregame_button_click                        0.00              0.00   \n",
       "tech_screen_change_settings                 0.00              0.00   \n",
       "pregame_change_settings                     0.00              0.00   \n",
       "tech_screen_change_scores                   0.00              0.04   \n",
       "tech_screen_change_team                     0.00              0.00   \n",
       "\n",
       "                             pregame_start_game  tech_screen_change_gameplay  \\\n",
       "aftergame_winfinish                        0.96                         0.79   \n",
       "game_board_click                           2.04                         1.58   \n",
       "pregame_start_game                         0.08                         5.12   \n",
       "tech_screen_change_gameplay                4.54                         0.25   \n",
       "tech_screen_change_mainmenu                1.96                         1.67   \n",
       "pregame_button_click                       0.00                         0.12   \n",
       "tech_screen_change_settings                0.04                         0.00   \n",
       "pregame_change_settings                    0.00                         0.08   \n",
       "tech_screen_change_scores                  0.00                         0.00   \n",
       "tech_screen_change_team                    0.00                         0.00   \n",
       "\n",
       "                             tech_screen_change_mainmenu  \\\n",
       "aftergame_winfinish                                 0.71   \n",
       "game_board_click                                    1.42   \n",
       "pregame_start_game                                  0.58   \n",
       "tech_screen_change_gameplay                         0.58   \n",
       "tech_screen_change_mainmenu                         0.75   \n",
       "pregame_button_click                                0.17   \n",
       "tech_screen_change_settings                         0.33   \n",
       "pregame_change_settings                             1.67   \n",
       "tech_screen_change_scores                           1.58   \n",
       "tech_screen_change_team                             0.38   \n",
       "\n",
       "                             pregame_button_click  \\\n",
       "aftergame_winfinish                          0.00   \n",
       "game_board_click                             0.00   \n",
       "pregame_start_game                           0.00   \n",
       "tech_screen_change_gameplay                  0.00   \n",
       "tech_screen_change_mainmenu                  0.17   \n",
       "pregame_button_click                         0.00   \n",
       "tech_screen_change_settings                  0.00   \n",
       "pregame_change_settings                      0.00   \n",
       "tech_screen_change_scores                    0.00   \n",
       "tech_screen_change_team                      0.21   \n",
       "\n",
       "                             tech_screen_change_settings  \\\n",
       "aftergame_winfinish                                 0.00   \n",
       "game_board_click                                    0.00   \n",
       "pregame_start_game                                  0.04   \n",
       "tech_screen_change_gameplay                         0.00   \n",
       "tech_screen_change_mainmenu                         1.96   \n",
       "pregame_button_click                                0.08   \n",
       "tech_screen_change_settings                         0.00   \n",
       "pregame_change_settings                             0.00   \n",
       "tech_screen_change_scores                           0.00   \n",
       "tech_screen_change_team                             0.00   \n",
       "\n",
       "                             pregame_change_settings  \\\n",
       "aftergame_winfinish                             0.00   \n",
       "game_board_click                                0.00   \n",
       "pregame_start_game                              0.00   \n",
       "tech_screen_change_gameplay                     0.00   \n",
       "tech_screen_change_mainmenu                     0.04   \n",
       "pregame_button_click                            0.00   \n",
       "tech_screen_change_settings                     1.71   \n",
       "pregame_change_settings                         4.04   \n",
       "tech_screen_change_scores                       0.00   \n",
       "tech_screen_change_team                         0.00   \n",
       "\n",
       "                             tech_screen_change_scores  \\\n",
       "aftergame_winfinish                               0.00   \n",
       "game_board_click                                  0.00   \n",
       "pregame_start_game                                0.00   \n",
       "tech_screen_change_gameplay                       0.00   \n",
       "tech_screen_change_mainmenu                       1.71   \n",
       "pregame_button_click                              0.00   \n",
       "tech_screen_change_settings                       0.00   \n",
       "pregame_change_settings                           0.00   \n",
       "tech_screen_change_scores                         0.25   \n",
       "tech_screen_change_team                           0.00   \n",
       "\n",
       "                             tech_screen_change_team  \n",
       "aftergame_winfinish                             0.00  \n",
       "game_board_click                                0.00  \n",
       "pregame_start_game                              0.00  \n",
       "tech_screen_change_gameplay                     0.00  \n",
       "tech_screen_change_mainmenu                     0.58  \n",
       "pregame_button_click                            0.00  \n",
       "tech_screen_change_settings                     0.00  \n",
       "pregame_change_settings                         0.00  \n",
       "tech_screen_change_scores                       0.00  \n",
       "tech_screen_change_team                         0.00  "
      ]
     },
     "execution_count": 23,
     "metadata": {},
     "output_type": "execute_result"
    }
   ],
   "source": [
    "data.retention.get_adjacency()"
   ]
  },
  {
   "cell_type": "code",
   "execution_count": 24,
   "metadata": {
    "colab": {
     "base_uri": "https://localhost:8080/",
     "height": 265.0
    },
    "colab_type": "code",
    "id": "HPUu3U8xCZSM",
    "outputId": "dd52f1f4-84a2-410b-a259-f5a22f88e918"
   },
   "outputs": [
    {
     "data": {
      "image/png": "[encoded data removed]",
      "text/plain": [
       "<Figure size 432x288 with 1 Axes>"
      ]
     },
     "metadata": {
      "needs_background": "light"
     },
     "output_type": "display_data"
    }
   ],
   "source": [
    "data.retention.learn_tsne(plot_type='targets');"
   ]
  },
  {
   "cell_type": "code",
   "execution_count": 25,
   "metadata": {
    "colab": {
     "base_uri": "https://localhost:8080/",
     "height": 265.0
    },
    "colab_type": "code",
    "id": "4I-vGFyBC3Gu",
    "outputId": "322b0894-d72b-413e-c8bf-eb585e776dfe"
   },
   "outputs": [
    {
     "data": {
      "image/png": "[encoded data removed]",
      "text/plain": [
       "<Figure size 432x288 with 1 Axes>"
      ]
     },
     "metadata": {
      "needs_background": "light"
     },
     "output_type": "display_data"
    }
   ],
   "source": [
    "data.retention.learn_tsne(perplexity=5, plot_type='targets', refit=True);"
   ]
  },
  {
   "cell_type": "code",
   "execution_count": 26,
   "metadata": {
    "colab": {
     "base_uri": "https://localhost:8080/",
     "height": 347.0
    },
    "colab_type": "code",
    "id": "-YbmtoaADI4y",
    "outputId": "73befdee-cfea-4f15-a0b9-80ef17c44fa4"
   },
   "outputs": [
    {
     "data": {
      "image/png": "[encoded data removed]",
      "text/plain": [
       "<Figure size 432x288 with 1 Axes>"
      ]
     },
     "metadata": {
      "needs_background": "light"
     },
     "output_type": "display_data"
    }
   ],
   "source": [
    "data.retention.get_clusters(plot_type='cluster_tsne');"
   ]
  },
  {
   "cell_type": "code",
   "execution_count": null,
   "metadata": {
    "colab": {},
    "colab_type": "code",
    "id": "TTDay3oHDMOm"
   },
   "outputs": [],
   "source": []
  }
 ],
 "metadata": {
  "colab": {
   "collapsed_sections": [],
   "name": "postgres_connector_reboard (1).ipynb",
   "provenance": [],
   "version": "0.3.2"
  },
  "kernelspec": {
   "display_name": "Python 3",
   "language": "python",
   "name": "python3"
  },
  "language_info": {
   "codemirror_mode": {
    "name": "ipython",
    "version": 3
   },
   "file_extension": ".py",
   "mimetype": "text/x-python",
   "name": "python",
   "nbconvert_exporter": "python",
   "pygments_lexer": "ipython3",
   "version": "3.6.8"
  }
 },
 "nbformat": 4,
 "nbformat_minor": 2
}
