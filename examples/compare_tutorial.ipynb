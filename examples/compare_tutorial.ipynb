{
 "cells": [
  {
   "cell_type": "code",
   "execution_count": 1,
   "metadata": {},
   "outputs": [],
   "source": [
    "import retentioneering"
   ]
  },
  {
   "cell_type": "code",
   "execution_count": 2,
   "metadata": {},
   "outputs": [
    {
     "data": {
      "text/html": [
       "<div>\n",
       "<style scoped>\n",
       "    .dataframe tbody tr th:only-of-type {\n",
       "        vertical-align: middle;\n",
       "    }\n",
       "\n",
       "    .dataframe tbody tr th {\n",
       "        vertical-align: top;\n",
       "    }\n",
       "\n",
       "    .dataframe thead th {\n",
       "        text-align: right;\n",
       "    }\n",
       "</style>\n",
       "<table border=\"1\" class=\"dataframe\">\n",
       "  <thead>\n",
       "    <tr style=\"text-align: right;\">\n",
       "      <th></th>\n",
       "      <th>client_id</th>\n",
       "      <th>event</th>\n",
       "      <th>timestamp</th>\n",
       "      <th>user_backet</th>\n",
       "      <th>transaction_value</th>\n",
       "      <th>transaction_ID</th>\n",
       "    </tr>\n",
       "  </thead>\n",
       "  <tbody>\n",
       "    <tr>\n",
       "      <th>0</th>\n",
       "      <td>219483890</td>\n",
       "      <td>catalog</td>\n",
       "      <td>2019-11-01 17:59:13.273932</td>\n",
       "      <td>test</td>\n",
       "      <td>NaN</td>\n",
       "      <td>None</td>\n",
       "    </tr>\n",
       "    <tr>\n",
       "      <th>1</th>\n",
       "      <td>219483890</td>\n",
       "      <td>product</td>\n",
       "      <td>2019-11-01 17:59:28.459271</td>\n",
       "      <td>test</td>\n",
       "      <td>NaN</td>\n",
       "      <td>None</td>\n",
       "    </tr>\n",
       "    <tr>\n",
       "      <th>2</th>\n",
       "      <td>219483890</td>\n",
       "      <td>cart</td>\n",
       "      <td>2019-11-01 17:59:29.502214</td>\n",
       "      <td>test</td>\n",
       "      <td>NaN</td>\n",
       "      <td>None</td>\n",
       "    </tr>\n",
       "    <tr>\n",
       "      <th>3</th>\n",
       "      <td>219483890</td>\n",
       "      <td>catalog</td>\n",
       "      <td>2019-11-01 17:59:32.557029</td>\n",
       "      <td>test</td>\n",
       "      <td>NaN</td>\n",
       "      <td>None</td>\n",
       "    </tr>\n",
       "    <tr>\n",
       "      <th>4</th>\n",
       "      <td>964964743</td>\n",
       "      <td>catalog</td>\n",
       "      <td>2019-11-01 21:38:19.283663</td>\n",
       "      <td>test</td>\n",
       "      <td>NaN</td>\n",
       "      <td>None</td>\n",
       "    </tr>\n",
       "  </tbody>\n",
       "</table>\n",
       "</div>"
      ],
      "text/plain": [
       "   client_id    event                   timestamp user_backet  \\\n",
       "0  219483890  catalog  2019-11-01 17:59:13.273932        test   \n",
       "1  219483890  product  2019-11-01 17:59:28.459271        test   \n",
       "2  219483890     cart  2019-11-01 17:59:29.502214        test   \n",
       "3  219483890  catalog  2019-11-01 17:59:32.557029        test   \n",
       "4  964964743  catalog  2019-11-01 21:38:19.283663        test   \n",
       "\n",
       "   transaction_value transaction_ID  \n",
       "0                NaN           None  \n",
       "1                NaN           None  \n",
       "2                NaN           None  \n",
       "3                NaN           None  \n",
       "4                NaN           None  "
      ]
     },
     "execution_count": 2,
     "metadata": {},
     "output_type": "execute_result"
    }
   ],
   "source": [
    "# load sample data\n",
    "from retentioneering import datasets\n",
    "data = datasets.load_simple_ab_test()\n",
    "\n",
    "data.head()"
   ]
  },
  {
   "cell_type": "code",
   "execution_count": 3,
   "metadata": {},
   "outputs": [],
   "source": [
    "retentioneering.config.update({\n",
    "    'event_col':'event',\n",
    "    'event_time_col':'timestamp',\n",
    "    'index_col': 'client_id'\n",
    "})"
   ]
  },
  {
   "cell_type": "code",
   "execution_count": 4,
   "metadata": {},
   "outputs": [
    {
     "data": {
      "text/plain": [
       "not_in_test    2624\n",
       "control         573\n",
       "test            554\n",
       "Name: user_backet, dtype: int64"
      ]
     },
     "execution_count": 4,
     "metadata": {},
     "output_type": "execute_result"
    }
   ],
   "source": [
    "(data\n",
    " .drop_duplicates(subset=['client_id'])['user_backet']\n",
    " .value_counts())"
   ]
  },
  {
   "cell_type": "code",
   "execution_count": 5,
   "metadata": {},
   "outputs": [],
   "source": [
    "test = data[data['user_backet']=='test']['client_id'].unique()\n",
    "control = data[data['user_backet']=='control']['client_id'].unique()"
   ]
  },
  {
   "cell_type": "code",
   "execution_count": 6,
   "metadata": {},
   "outputs": [
    {
     "name": "stdout",
     "output_type": "stream",
     "text": [
      "test (mean ± SD): 0.227 ± 0.419, n = 554\n",
      "control (mean ± SD): 0.148 ± 0.355, n = 573\n",
      "'test' is greater than 'control' with P-value: 0.00034\n"
     ]
    },
    {
     "data": {
      "image/png": "[encoded data removed]",
      "text/plain": [
       "<Figure size 443.235x360 with 1 Axes>"
      ]
     },
     "metadata": {},
     "output_type": "display_data"
    }
   ],
   "source": [
    "convertion = lambda x: int(['payment_done'] in x['event'].unique())\n",
    "\n",
    "data.rete.compare(groups=(test, control),\n",
    "                  function=convertion,\n",
    "                  test='mannwhitneyu',\n",
    "                  group_names=('test','control'))"
   ]
  },
  {
   "cell_type": "code",
   "execution_count": 7,
   "metadata": {},
   "outputs": [
    {
     "name": "stdout",
     "output_type": "stream",
     "text": [
      "test (mean ± SD): 736.026 ± 149.001, n = 126\n",
      "control (mean ± SD): 732.980 ± 139.960, n = 85\n",
      "'test' is less than 'control' with P-value: 0.55199\n"
     ]
    },
    {
     "data": {
      "image/png": "[encoded data removed]",
      "text/plain": [
       "<Figure size 443.235x360 with 1 Axes>"
      ]
     },
     "metadata": {},
     "output_type": "display_data"
    }
   ],
   "source": [
    "average_check = lambda x: x['transaction_value'].mean()\n",
    "\n",
    "\n",
    "data.rete.compare(groups=(test, control),\n",
    "                  function=average_check,\n",
    "                  test='ks_2samp',\n",
    "                  group_names=('test','control'))"
   ]
  },
  {
   "cell_type": "code",
   "execution_count": 8,
   "metadata": {},
   "outputs": [
    {
     "data": {
      "text/html": [
       "<div>\n",
       "<style scoped>\n",
       "    .dataframe tbody tr th:only-of-type {\n",
       "        vertical-align: middle;\n",
       "    }\n",
       "\n",
       "    .dataframe tbody tr th {\n",
       "        vertical-align: top;\n",
       "    }\n",
       "\n",
       "    .dataframe thead th {\n",
       "        text-align: right;\n",
       "    }\n",
       "</style>\n",
       "<table border=\"1\" class=\"dataframe\">\n",
       "  <thead>\n",
       "    <tr style=\"text-align: right;\">\n",
       "      <th></th>\n",
       "      <th>transaction_ID</th>\n",
       "      <th>confirmed</th>\n",
       "    </tr>\n",
       "  </thead>\n",
       "  <tbody>\n",
       "    <tr>\n",
       "      <th>0</th>\n",
       "      <td>7121884</td>\n",
       "      <td>True</td>\n",
       "    </tr>\n",
       "    <tr>\n",
       "      <th>1</th>\n",
       "      <td>9641982</td>\n",
       "      <td>True</td>\n",
       "    </tr>\n",
       "    <tr>\n",
       "      <th>2</th>\n",
       "      <td>9826287</td>\n",
       "      <td>True</td>\n",
       "    </tr>\n",
       "    <tr>\n",
       "      <th>3</th>\n",
       "      <td>9647603</td>\n",
       "      <td>True</td>\n",
       "    </tr>\n",
       "    <tr>\n",
       "      <th>4</th>\n",
       "      <td>8125650</td>\n",
       "      <td>True</td>\n",
       "    </tr>\n",
       "  </tbody>\n",
       "</table>\n",
       "</div>"
      ],
      "text/plain": [
       "  transaction_ID  confirmed\n",
       "0        7121884       True\n",
       "1        9641982       True\n",
       "2        9826287       True\n",
       "3        9647603       True\n",
       "4        8125650       True"
      ]
     },
     "execution_count": 8,
     "metadata": {},
     "output_type": "execute_result"
    }
   ],
   "source": [
    "import pandas as pd\n",
    "import random\n",
    "\n",
    "all_ids = data['transaction_ID'].dropna().unique()\n",
    "status = pd.DataFrame({'transaction_ID': all_ids, \n",
    "                       'confirmed': [random.random() > 0.2 \n",
    "                                     for _ in all_ids]})\n",
    "\n",
    "status.head()"
   ]
  },
  {
   "cell_type": "code",
   "execution_count": 9,
   "metadata": {},
   "outputs": [],
   "source": [
    "def confirmed_purch(x):\n",
    "    \n",
    "    # get list of transactions for user x\n",
    "    trans_list = x['transaction_ID'].unique()\n",
    "    \n",
    "    # get all status records for transactions from user x\n",
    "    trans_status = status[status['transaction_ID'].isin(trans_list)]\n",
    "    \n",
    "    # True / False if user has conf transactions\n",
    "    has_conf_trans = trans_status['confirmed'].sum() > 0\n",
    "    \n",
    "    # convert bool to int:\n",
    "    return int(has_conf_trans)\n"
   ]
  },
  {
   "cell_type": "code",
   "execution_count": 10,
   "metadata": {},
   "outputs": [
    {
     "name": "stdout",
     "output_type": "stream",
     "text": [
      "test (mean ± SD): 0.179 ± 0.383, n = 554\n",
      "control (mean ± SD): 0.119 ± 0.323, n = 573\n",
      "'test' is greater than 'control' with P-value: 0.00230\n"
     ]
    },
    {
     "data": {
      "image/png": "[encoded data removed]",
      "text/plain": [
       "<Figure size 443.235x360 with 1 Axes>"
      ]
     },
     "metadata": {},
     "output_type": "display_data"
    }
   ],
   "source": [
    "data.rete.compare(groups=(test, control),\n",
    "                  function=confirmed_purch,\n",
    "                  test='mannwhitneyu',\n",
    "                  group_names=('test','control'))"
   ]
  }
 ],
 "metadata": {
  "kernelspec": {
   "display_name": "Python 3",
   "language": "python",
   "name": "python3"
  },
  "language_info": {
   "codemirror_mode": {
    "name": "ipython",
    "version": 3
   },
   "file_extension": ".py",
   "mimetype": "text/x-python",
   "name": "python",
   "nbconvert_exporter": "python",
   "pygments_lexer": "ipython3",
   "version": "3.8.5"
  },
  "toc": {
   "base_numbering": 1,
   "nav_menu": {},
   "number_sections": true,
   "sideBar": true,
   "skip_h1_title": false,
   "title_cell": "Table of Contents",
   "title_sidebar": "Contents",
   "toc_cell": false,
   "toc_position": {},
   "toc_section_display": true,
   "toc_window_display": true
  }
 },
 "nbformat": 4,
 "nbformat_minor": 4
}
